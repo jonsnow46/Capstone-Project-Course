{
    "cells": [
        {
            "cell_type": "code",
            "execution_count": null,
            "metadata": {},
            "outputs": [
                {
                    "name": "stdout",
                    "output_type": "stream",
                    "text": "Solving environment: - "
                }
            ],
            "source": "#importing libraries\nimport pandas as pd\nimport numpy as np\nimport json\n\n!conda install -c conda-forge geopy --yes\nfrom geopy.geocoders import Nominatim\n\nimport requests\nfrom pandas.io.json import json_normalize\n\nimport matplotlib.cm as cm\nimport matplotlib.colors as colors\n\nfrom sklearn.cluster import KMeans\n\n!conda install -c conda-forge folium=0.5.0 --yes\nimport folium"
        },
        {
            "cell_type": "code",
            "execution_count": null,
            "metadata": {},
            "outputs": [],
            "source": "# read data from html\nurl = 'https://en.wikipedia.org/wiki/List_of_postal_codes_of_Canada:_M'\nread_table = pd.read_html(url,header=[0])\ndf1 = read_table[0]\n\n# rename columns' name\ndf1 = df1.rename(index=str, columns={'Postal Code':'PostalCode','Neighbourhood':'Neighborhood'})\n\n# Ignore cells with a borough that is Not assigned\ndf1 = df1[df1.Borough !='Not assigned']\ndf1.reset_index(drop=True,inplace=True)\n\n# groupby\ndf1 = df1.groupby('PostalCode',as_index=False).agg(lambda x: ','.join(set(x.dropna())))\n\n# If a cell has a borough but a Not assigned neighborhood, \n#then the neighborhood will be the same as the borough\ndf1.loc[df1['Neighborhood'] == 'Not assigned','Neighborhood'] = df1['Borough']\n\ndf1.head()"
        },
        {
            "cell_type": "code",
            "execution_count": null,
            "metadata": {},
            "outputs": [],
            "source": "df2 = pd.read_csv('http://cocl.us/Geospatial_data')\n\n# Change the columns' name\ndf2.columns = ['PostalCode','Latitude','Longitude']\n\n# Merge two dataframes\ndf = pd.merge(left=df1,right=df2,on='PostalCode')\ndf.head()"
        },
        {
            "cell_type": "markdown",
            "metadata": {},
            "source": "Getting Toronto Data"
        },
        {
            "cell_type": "code",
            "execution_count": null,
            "metadata": {},
            "outputs": [],
            "source": "Toronto = df[df['Borough'].str.contains('Toronto')].reset_index(drop=True)\nToronto.head()"
        },
        {
            "cell_type": "markdown",
            "metadata": {},
            "source": "Lattitude and Longitude of Toronto"
        },
        {
            "cell_type": "code",
            "execution_count": null,
            "metadata": {},
            "outputs": [],
            "source": "address = 'Toronto'\ngeolocator = Nominatim()\nlocation = geolocator.geocode(address)\nlatitude = location.latitude\nlongitude = location.longitude\nprint('The geograpical coordinate of Toronto are{},{}.'.format(latitude,longitude))"
        },
        {
            "cell_type": "markdown",
            "metadata": {},
            "source": "Map of Toronto"
        },
        {
            "cell_type": "code",
            "execution_count": null,
            "metadata": {},
            "outputs": [],
            "source": "# create map of Toronto using latitude and longitude values\nmap_Toronto = folium.Map(location=[latitude, longitude], zoom_start=11)\n\n# add markers to map\nfor lat, lng, label in zip(Toronto['Latitude'], Toronto['Longitude'], Toronto['Neighborhood']):\n    label = folium.Popup(label, parse_html=True)\n    folium.CircleMarker(\n        [lat, lng],\n        radius=5,\n        popup=label,\n        color='blue',\n        fill=True,\n        fill_color='#3186cc',\n        fill_opacity=0.7,\n        parse_html=False).add_to(map_Toronto)  \n    \nmap_Toronto"
        },
        {
            "cell_type": "markdown",
            "metadata": {},
            "source": "Foursquare Credentials"
        },
        {
            "cell_type": "code",
            "execution_count": null,
            "metadata": {},
            "outputs": [],
            "source": "CLIENT_ID = 'SY5I3Z1IRBTTK5SCH1HFHD3Y2E2MMGIEZHM5MHGRQLSVOUPP' # your Foursquare ID\nCLIENT_SECRET = 'SXE5ZS0AQEN5NWGTME31BKVWBXIDDJIYCXB3DLSOWOD2LCGK' # your Foursquare Secret\nVERSION = '20200714' # Foursquare API version\n"
        },
        {
            "cell_type": "markdown",
            "metadata": {},
            "source": "# Explore Toronto "
        },
        {
            "cell_type": "markdown",
            "metadata": {},
            "source": "Getting the top 100 venues within 500 meters"
        },
        {
            "cell_type": "code",
            "execution_count": null,
            "metadata": {},
            "outputs": [],
            "source": "LIMIT = 100\nradius = 500\n\ndef getNearbyVenues(names, latitudes, longitudes, radius=500):\n    \n    venues_list=[]\n    for name, lat, lng in zip(names, latitudes, longitudes):\n        print(name)\n            \n        # create the API request URL\n        url = 'https://api.foursquare.com/v2/venues/explore?&client_id={}&client_secret={}&v={}&ll={},{}&radius={}&limit={}'.format(\n            CLIENT_ID, \n            CLIENT_SECRET, \n            VERSION, \n            lat, \n            lng, \n            radius, \n            LIMIT)\n            \n        # make the GET request\n        results = requests.get(url).json()[\"response\"]['groups'][0]['items']\n        \n        # return only relevant information for each nearby venue\n        venues_list.append([(\n            name, \n            lat, \n            lng, \n            v['venue']['name'], \n            v['venue']['location']['lat'], \n            v['venue']['location']['lng'],  \n            v['venue']['categories'][0]['name']) for v in results])\n\n    nearby_venues = pd.DataFrame([item for venue_list in venues_list for item in venue_list])\n    nearby_venues.columns = ['Neighborhood', \n                  'Neighborhood Latitude', \n                  'Neighborhood Longitude', \n                  'Venue', \n                  'Venue Latitude', \n                  'Venue Longitude', \n                  'Venue Category']\n    \n    return(nearby_venues)\n\n\n# write the code to run the above function\nToronto_venues = getNearbyVenues(names=Toronto['Neighborhood'],\n                                  latitudes=Toronto['Latitude'],\n                                  longitudes=Toronto['Longitude'])"
        },
        {
            "cell_type": "code",
            "execution_count": null,
            "metadata": {},
            "outputs": [],
            "source": "print(Toronto_venues.shape)\nToronto_venues.head()"
        },
        {
            "cell_type": "markdown",
            "metadata": {},
            "source": "Check how many were returned\n"
        },
        {
            "cell_type": "code",
            "execution_count": null,
            "metadata": {},
            "outputs": [],
            "source": "Toronto_venues.groupby('Neighborhood').count()"
        },
        {
            "cell_type": "markdown",
            "metadata": {},
            "source": "Unique Categories"
        },
        {
            "cell_type": "code",
            "execution_count": null,
            "metadata": {},
            "outputs": [],
            "source": "print('There are {} uniques categories.'.format(len(Toronto_venues['Venue Category'].unique())))"
        },
        {
            "cell_type": "markdown",
            "metadata": {},
            "source": "Analyze Neighbourhood"
        },
        {
            "cell_type": "code",
            "execution_count": null,
            "metadata": {},
            "outputs": [],
            "source": "# one hot encoding\nToronto_onehot = pd.get_dummies(Toronto_venues[['Venue Category']], prefix=\"\", prefix_sep=\"\")\n\n# add neighborhood column back to dataframe\nToronto_onehot['Neighborhood'] = Toronto_venues['Neighborhood'] \n\n# move neighborhood column to the first column\nfixed_columns = [Toronto_onehot.columns[-1]] + list(Toronto_onehot.columns[:-1])\nToronto_onehot = Toronto_onehot[fixed_columns]\n\nToronto_onehot.head()"
        },
        {
            "cell_type": "markdown",
            "metadata": {},
            "source": "New Dataframe shape"
        },
        {
            "cell_type": "code",
            "execution_count": null,
            "metadata": {},
            "outputs": [],
            "source": "Toronto_onehot.shape"
        },
        {
            "cell_type": "markdown",
            "metadata": {},
            "source": "Group by neighbourhood"
        },
        {
            "cell_type": "code",
            "execution_count": null,
            "metadata": {},
            "outputs": [],
            "source": "Toronto_grouped = Toronto_onehot.groupby('Neighborhood').mean().reset_index()\nToronto_grouped"
        },
        {
            "cell_type": "markdown",
            "metadata": {},
            "source": "Size after grouping\n"
        },
        {
            "cell_type": "code",
            "execution_count": null,
            "metadata": {},
            "outputs": [],
            "source": "# new size\nToronto_grouped.shape"
        },
        {
            "cell_type": "markdown",
            "metadata": {},
            "source": "Top 10 venues\n"
        },
        {
            "cell_type": "code",
            "execution_count": null,
            "metadata": {},
            "outputs": [],
            "source": "num_top_venues = 10\n\n# write a funcition to sort the venues in descending order\ndef return_most_common_venues(row, num_top_venues):\n    row_categories = row.iloc[1:]\n    row_categories_sorted = row_categories.sort_values(ascending=False)   \n    return row_categories_sorted.index.values[0:num_top_venues]\n\nindicators = ['st', 'nd', 'rd']\n\n# create columns according to number of top venues\ncolumns = ['Neighborhood']\nfor ind in np.arange(num_top_venues):\n    try:\n        columns.append('{}{} Most Common Venue'.format(ind+1, indicators[ind]))\n    except:\n        columns.append('{}th Most Common Venue'.format(ind+1))\n\n# create a new dataframe\nToronto_venues_sorted = pd.DataFrame(columns=columns)\nToronto_venues_sorted['Neighborhood'] = Toronto_grouped['Neighborhood']\n\nfor ind in np.arange(Toronto_grouped.shape[0]):\n    Toronto_venues_sorted.iloc[ind, 1:] = return_most_common_venues(Toronto_grouped.iloc[ind, :], num_top_venues)\n\nToronto_venues_sorted"
        },
        {
            "cell_type": "markdown",
            "metadata": {},
            "source": "Cluster Neighbourhood"
        },
        {
            "cell_type": "code",
            "execution_count": null,
            "metadata": {},
            "outputs": [],
            "source": "# set number of clusters\nkclusters = 5\n\nToronto_grouped_clustering = Toronto_grouped.drop('Neighborhood', 1)\n\n# run k-means clustering\nkmeans = KMeans(n_clusters=kclusters, random_state=0).fit(Toronto_grouped_clustering)\n\n# check cluster labels generated for each row in the dataframe\nkmeans.labels_[0:10]"
        },
        {
            "cell_type": "code",
            "execution_count": null,
            "metadata": {},
            "outputs": [],
            "source": "Toronto_merged = Toronto\n\n# add clustering labels\nToronto_merged['Cluster Labels'] = kmeans.labels_\n\n# merge toronto_grouped with toronto_data to add latitude/longitude for each neighborhood\nToronto_merged = Toronto_merged.join(Toronto_venues_sorted.set_index('Neighborhood'), on='Neighborhood')\n\nToronto_merged.head() # check the last columns!"
        },
        {
            "cell_type": "markdown",
            "metadata": {},
            "source": "Visualizing"
        },
        {
            "cell_type": "code",
            "execution_count": null,
            "metadata": {},
            "outputs": [],
            "source": "# create map\nmap_clusters = folium.Map(location=[latitude, longitude], zoom_start=11)\n\n# set color scheme for the clusters\nx = np.arange(kclusters)\nys = [i+x+(i*x)**2 for i in range(kclusters)]\ncolors_array = cm.rainbow(np.linspace(0, 1, len(ys)))\nrainbow = [colors.rgb2hex(i) for i in colors_array]\n\n# add markers to the map\nmarkers_colors = []\nfor lat, lon, poi, cluster in zip(Toronto_merged['Latitude'], Toronto_merged['Longitude'], \n                                  Toronto_merged['Neighborhood'], \n                                  Toronto_merged['Cluster Labels']):\n    label = folium.Popup(str(poi) + ' Cluster ' + str(cluster), parse_html=True)\n    folium.CircleMarker(\n        [lat, lon],\n        radius=5,\n        popup=label,\n        color=rainbow[cluster-1],\n        fill=True,\n        fill_color=rainbow[cluster-1],\n        fill_opacity=0.7).add_to(map_clusters)\n       \nmap_clusters"
        },
        {
            "cell_type": "code",
            "execution_count": null,
            "metadata": {},
            "outputs": [],
            "source": ""
        }
    ],
    "metadata": {
        "kernelspec": {
            "display_name": "Python 3.6",
            "language": "python",
            "name": "python3"
        },
        "language_info": {
            "codemirror_mode": {
                "name": "ipython",
                "version": 3
            },
            "file_extension": ".py",
            "mimetype": "text/x-python",
            "name": "python",
            "nbconvert_exporter": "python",
            "pygments_lexer": "ipython3",
            "version": "3.6.9"
        }
    },
    "nbformat": 4,
    "nbformat_minor": 1
}